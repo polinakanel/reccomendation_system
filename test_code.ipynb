{
 "cells": [
  {
   "cell_type": "markdown",
   "metadata": {},
   "source": [
    "Item-to-item CF matches item purchased or rated by a target user to similar items and combines those similar items in a recommendation list.\n",
    "\n",
    "Similarity computed based on the following features:\n",
    "    1. Average rating\n",
    "    2. Product Description\n",
    "    3. Co-occurrence of items in a bag of other customers\n",
    "    \n",
    "\n",
    "Steps:\n",
    "    1. Scan the products, for all customers that bought any product from the basket, identify the other products bought by those customers\n",
    "    2. Find what products are bought together more often\n",
    "    3. Compute the similarity of the target user basket with the products identified in step 2.\n",
    "    4. Select top N similar to recommend\n",
    "    \n",
    "    \n",
    "    \n",
    "There are some #TODOs in the code"
   ]
  },
  {
   "cell_type": "code",
   "execution_count": 475,
   "metadata": {
    "collapsed": false
   },
   "outputs": [],
   "source": [
    "import pandas as pd\n",
    "import numpy as np\n",
    "import gzip\n",
    "import time"
   ]
  },
  {
   "cell_type": "code",
   "execution_count": 476,
   "metadata": {
    "collapsed": true
   },
   "outputs": [],
   "source": [
    "# high-level parameters\n",
    "example_id = 'AHQRU3MRORIWQ' # user ID (for this user recommendation is made)\n",
    "topN = 10 # how many products to recommend"
   ]
  },
  {
   "cell_type": "code",
   "execution_count": 480,
   "metadata": {
    "collapsed": false
   },
   "outputs": [
    {
     "name": "stdout",
     "output_type": "stream",
     "text": [
      "--- 65.97688794136047 seconds ---\n"
     ]
    }
   ],
   "source": [
    "# ==== Reading data ====== #\n",
    "def parse(path):\n",
    "  g = gzip.open(path, 'rb')\n",
    "  for l in g:\n",
    "    yield eval(l)\n",
    "\n",
    "def getDF(path):\n",
    "  i = 0\n",
    "  df = {}\n",
    "  for d in parse(path):\n",
    "    df[i] = d\n",
    "    i += 1\n",
    "  return pd.DataFrame.from_dict(df, orient='index')\n",
    "\n",
    "\n",
    "# Tools and Home Improvement\treviews (1,926,047 reviews) metadata (269,120 products)\n",
    "start_time = time.time()\n",
    "\n",
    "data_review = getDF('reviews_Tools_and_Home_Improvement_5.json.gz')\n",
    "data_meta = getDF('meta_Tools_and_Home_Improvement.json.gz')\n",
    "\n",
    "print(\"--- %s seconds ---\" % (time.time() - start_time))  "
   ]
  },
  {
   "cell_type": "code",
   "execution_count": 481,
   "metadata": {
    "collapsed": false
   },
   "outputs": [
    {
     "data": {
      "text/html": [
       "<div>\n",
       "<table border=\"1\" class=\"dataframe\">\n",
       "  <thead>\n",
       "    <tr style=\"text-align: right;\">\n",
       "      <th></th>\n",
       "      <th>reviewerID</th>\n",
       "      <th>reviewTime</th>\n",
       "      <th>overall</th>\n",
       "      <th>summary</th>\n",
       "      <th>reviewerName</th>\n",
       "      <th>reviewText</th>\n",
       "      <th>helpful</th>\n",
       "      <th>asin</th>\n",
       "      <th>unixReviewTime</th>\n",
       "    </tr>\n",
       "  </thead>\n",
       "  <tbody>\n",
       "    <tr>\n",
       "      <th>0</th>\n",
       "      <td>A4IL0CLL27Q33</td>\n",
       "      <td>01 29, 2014</td>\n",
       "      <td>5.0</td>\n",
       "      <td>Perfect for collar stay management</td>\n",
       "      <td>D. Brennan</td>\n",
       "      <td>I hate it when my shirt collars, not otherwise...</td>\n",
       "      <td>[0, 1]</td>\n",
       "      <td>104800001X</td>\n",
       "      <td>1390953600</td>\n",
       "    </tr>\n",
       "  </tbody>\n",
       "</table>\n",
       "</div>"
      ],
      "text/plain": [
       "      reviewerID   reviewTime  overall                             summary  \\\n",
       "0  A4IL0CLL27Q33  01 29, 2014      5.0  Perfect for collar stay management   \n",
       "\n",
       "  reviewerName                                         reviewText helpful  \\\n",
       "0   D. Brennan  I hate it when my shirt collars, not otherwise...  [0, 1]   \n",
       "\n",
       "         asin  unixReviewTime  \n",
       "0  104800001X      1390953600  "
      ]
     },
     "execution_count": 481,
     "metadata": {},
     "output_type": "execute_result"
    }
   ],
   "source": [
    "data_review.head(n=1) # preview of the reviews data"
   ]
  },
  {
   "cell_type": "code",
   "execution_count": 482,
   "metadata": {
    "collapsed": false,
    "scrolled": true
   },
   "outputs": [
    {
     "data": {
      "text/html": [
       "<div>\n",
       "<table border=\"1\" class=\"dataframe\">\n",
       "  <thead>\n",
       "    <tr style=\"text-align: right;\">\n",
       "      <th></th>\n",
       "      <th>title</th>\n",
       "      <th>imUrl</th>\n",
       "      <th>categories</th>\n",
       "      <th>related</th>\n",
       "      <th>price</th>\n",
       "      <th>brand</th>\n",
       "      <th>description</th>\n",
       "      <th>salesRank</th>\n",
       "    </tr>\n",
       "  </thead>\n",
       "  <tbody>\n",
       "    <tr>\n",
       "      <th>001212835X</th>\n",
       "      <td>Everett's Cottage Table Lamp</td>\n",
       "      <td>http://ecx.images-amazon.com/images/I/41R2RAs9...</td>\n",
       "      <td>[[Tools &amp; Home Improvement, Lighting &amp; Ceiling...</td>\n",
       "      <td>NaN</td>\n",
       "      <td>NaN</td>\n",
       "      <td>NaN</td>\n",
       "      <td>NaN</td>\n",
       "      <td>NaN</td>\n",
       "    </tr>\n",
       "  </tbody>\n",
       "</table>\n",
       "</div>"
      ],
      "text/plain": [
       "                                   title  \\\n",
       "001212835X  Everett's Cottage Table Lamp   \n",
       "\n",
       "                                                        imUrl  \\\n",
       "001212835X  http://ecx.images-amazon.com/images/I/41R2RAs9...   \n",
       "\n",
       "                                                   categories related  price  \\\n",
       "001212835X  [[Tools & Home Improvement, Lighting & Ceiling...     NaN    NaN   \n",
       "\n",
       "           brand description salesRank  \n",
       "001212835X   NaN         NaN       NaN  "
      ]
     },
     "execution_count": 482,
     "metadata": {},
     "output_type": "execute_result"
    }
   ],
   "source": [
    "data_meta.set_index('asin', inplace = True)\n",
    "del data_meta.index.name\n",
    "data_meta.head(n=1) # preview of the items data"
   ]
  },
  {
   "cell_type": "code",
   "execution_count": 483,
   "metadata": {
    "collapsed": true
   },
   "outputs": [],
   "source": [
    "# lists of the all users IDs and all product IDs (unique)\n",
    "#users_ids = list(set(data_review['reviewerID']))\n",
    "#products_asins = list(set(data_review['asin']))"
   ]
  },
  {
   "cell_type": "code",
   "execution_count": 484,
   "metadata": {
    "collapsed": false
   },
   "outputs": [],
   "source": [
    "# grouping of data by users and by products\n",
    "reviews_grouped_by_product = data_review[['reviewerID','asin','overall']].groupby('asin')\n",
    "reviews_grouped_by_user = data_review[['reviewerID','asin','overall']].groupby('reviewerID')"
   ]
  },
  {
   "cell_type": "code",
   "execution_count": 485,
   "metadata": {
    "collapsed": true
   },
   "outputs": [],
   "source": [
    "def who_also_bought(product_id):\n",
    "    # input - product ID, output - dataframe with data = IDs of users, who also bought this product\n",
    "    return reviews_grouped_by_product.get_group(product_id)['reviewerID']\n",
    "\n",
    "def get_product_list(customer_id):\n",
    "    # input - user ID, output - dataframe with data = what products was rated by the given user\n",
    "    return reviews_grouped_by_user.get_group(customer_id)['asin']\n",
    "\n",
    "def do_df(asin):\n",
    "    # input - product ID, output - dataframe with data = ratings for this product from the users who have rated it\n",
    "    tmp = reviews_grouped_by_product.get_group(asin)[['reviewerID','overall']]\n",
    "    tmp.set_index('reviewerID', inplace = True)\n",
    "    tmp.columns = [asin]\n",
    "    del tmp.index.name\n",
    "    return tmp"
   ]
  },
  {
   "cell_type": "code",
   "execution_count": 486,
   "metadata": {
    "collapsed": true
   },
   "outputs": [],
   "source": [
    "# catalog of the items that user has rated\n",
    "example_user_catalog = reviews_grouped_by_user.get_group(example_id)['asin']"
   ]
  },
  {
   "cell_type": "code",
   "execution_count": 487,
   "metadata": {
    "collapsed": false
   },
   "outputs": [
    {
     "name": "stdout",
     "output_type": "stream",
     "text": [
      "--- 30.34269618988037 seconds ---\n"
     ]
    }
   ],
   "source": [
    "# list of dataframes; \n",
    "#each dataframe is with: index = users ID, column = product ID, data = rating for product from users\n",
    "reviews_matrix = [] \n",
    "\n",
    "# dictionary of dictionaries; \n",
    "# format: item_X = {item_A: # of times user rated item_A AND item_X}\n",
    "purchase_frequency = {}\n",
    "\n",
    "start_time = time.time()\n",
    "\n",
    "cutomers_already_covered = [example_id]\n",
    "products_already_covered = list(example_user_catalog.values)\n",
    "\n",
    "#TODO: find a better way than nested for loops\n",
    "\n",
    "for item_id in example_user_catalog:\n",
    "    customers = who_also_bought(item_id)\n",
    "    cutomers_already_covered.append(list(customers.values))\n",
    "    purchase_frequency[item_id] = {}\n",
    "    \n",
    "    for c_id in customers:\n",
    "        if np.all(c_id not in cutomers_already_covered):\n",
    "            products = get_product_list(c_id)\n",
    "            products_already_covered.append(list(products.values))\n",
    "            #products = products[products != item_id] \n",
    "            \n",
    "            for prod in products:\n",
    "                if np.all(prod not in products_already_covered):\n",
    "                    reviews_matrix.append( do_df(prod) )\n",
    "                    try: \n",
    "                        purchase_frequency[item_id][prod] = purchase_frequency[item_id][prod] + 1\n",
    "                    except KeyError:     \n",
    "                        purchase_frequency[item_id][prod] = 1\n",
    "\n",
    "# matrix - collecting the reviews from the users about the products, not used now.\n",
    "matrix = pd.concat(reviews_matrix, axis = 1, join='outer')\n",
    "\n",
    "sorted_purchase_frequency = {}\n",
    "for val in purchase_frequency.keys():\n",
    "    sorted_purchase_frequency[val] = sorted(purchase_frequency[val], key=purchase_frequency[val].__getitem__, reverse=True)\n",
    "\n",
    "print(\"--- %s seconds ---\" % (time.time() - start_time))  "
   ]
  },
  {
   "cell_type": "code",
   "execution_count": 488,
   "metadata": {
    "collapsed": false
   },
   "outputs": [
    {
     "data": {
      "text/html": [
       "<div>\n",
       "<table border=\"1\" class=\"dataframe\">\n",
       "  <thead>\n",
       "    <tr style=\"text-align: right;\">\n",
       "      <th></th>\n",
       "      <th>B0000224L6</th>\n",
       "      <th>B0000225OD</th>\n",
       "      <th>B0007VYL48</th>\n",
       "      <th>B000CFNCKS</th>\n",
       "      <th>B000I1EFKM</th>\n",
       "      <th>B001EYU97A</th>\n",
       "      <th>B001PTGBRQ</th>\n",
       "      <th>B002B56CUO</th>\n",
       "      <th>B002B56CUY</th>\n",
       "      <th>B0055HPIOQ</th>\n",
       "      <th>...</th>\n",
       "      <th>B00443I32G</th>\n",
       "      <th>B004SKY73O</th>\n",
       "      <th>B008186IAY</th>\n",
       "      <th>B00APL6Q0W</th>\n",
       "      <th>B00G5R4E1S</th>\n",
       "      <th>B00GWBYDTU</th>\n",
       "      <th>B00I5CKF0A</th>\n",
       "      <th>B00IL62XK0</th>\n",
       "      <th>B00JALS9Y4</th>\n",
       "      <th>B00JALSF7K</th>\n",
       "    </tr>\n",
       "  </thead>\n",
       "  <tbody>\n",
       "    <tr>\n",
       "      <th>A00473363TJ8YSZ3YAGG9</th>\n",
       "      <td>NaN</td>\n",
       "      <td>NaN</td>\n",
       "      <td>NaN</td>\n",
       "      <td>NaN</td>\n",
       "      <td>NaN</td>\n",
       "      <td>NaN</td>\n",
       "      <td>NaN</td>\n",
       "      <td>NaN</td>\n",
       "      <td>NaN</td>\n",
       "      <td>NaN</td>\n",
       "      <td>...</td>\n",
       "      <td>NaN</td>\n",
       "      <td>NaN</td>\n",
       "      <td>NaN</td>\n",
       "      <td>NaN</td>\n",
       "      <td>NaN</td>\n",
       "      <td>NaN</td>\n",
       "      <td>NaN</td>\n",
       "      <td>NaN</td>\n",
       "      <td>NaN</td>\n",
       "      <td>NaN</td>\n",
       "    </tr>\n",
       "  </tbody>\n",
       "</table>\n",
       "<p>1 rows × 5101 columns</p>\n",
       "</div>"
      ],
      "text/plain": [
       "                       B0000224L6  B0000225OD  B0007VYL48  B000CFNCKS  \\\n",
       "A00473363TJ8YSZ3YAGG9         NaN         NaN         NaN         NaN   \n",
       "\n",
       "                       B000I1EFKM  B001EYU97A  B001PTGBRQ  B002B56CUO  \\\n",
       "A00473363TJ8YSZ3YAGG9         NaN         NaN         NaN         NaN   \n",
       "\n",
       "                       B002B56CUY  B0055HPIOQ     ...      B00443I32G  \\\n",
       "A00473363TJ8YSZ3YAGG9         NaN         NaN     ...             NaN   \n",
       "\n",
       "                       B004SKY73O  B008186IAY  B00APL6Q0W  B00G5R4E1S  \\\n",
       "A00473363TJ8YSZ3YAGG9         NaN         NaN         NaN         NaN   \n",
       "\n",
       "                       B00GWBYDTU  B00I5CKF0A  B00IL62XK0  B00JALS9Y4  \\\n",
       "A00473363TJ8YSZ3YAGG9         NaN         NaN         NaN         NaN   \n",
       "\n",
       "                       B00JALSF7K  \n",
       "A00473363TJ8YSZ3YAGG9         NaN  \n",
       "\n",
       "[1 rows x 5101 columns]"
      ]
     },
     "execution_count": 488,
     "metadata": {},
     "output_type": "execute_result"
    }
   ],
   "source": [
    "matrix.head(n = 1) # preview of the matrix, that collected the revies from the users"
   ]
  },
  {
   "cell_type": "markdown",
   "metadata": {},
   "source": [
    "Define the top N (to be set) products based on the how often bought together"
   ]
  },
  {
   "cell_type": "code",
   "execution_count": 489,
   "metadata": {
    "collapsed": false
   },
   "outputs": [],
   "source": [
    "topN_products = []\n",
    "for val in sorted_purchase_frequency.keys():\n",
    "    topN_products = topN_products + (sorted_purchase_frequency[val][1:topN])\n",
    "\n",
    "# TODO: the information that the product is a duplicate can be usefull, need to include into analysis\n",
    "# delete the duplicates\n",
    "topN_products = list(set(topN_products))"
   ]
  },
  {
   "cell_type": "markdown",
   "metadata": {},
   "source": [
    "In top N define M most similar products to ones that are in the user basket\n",
    "\n",
    "To define it, need to look at the products similarity. The possible features:\n",
    "- average rating\n",
    "- price\n",
    "- category\n",
    "- brand"
   ]
  },
  {
   "cell_type": "code",
   "execution_count": 490,
   "metadata": {
    "collapsed": true
   },
   "outputs": [],
   "source": [
    "def consructDataFeatures(data_in, item_list):\n",
    "    data_out = data_in.loc[item_list, ['categories','price','brand','salesRank']]\n",
    "    for el in item_list:\n",
    "        data_out.loc[el,'Rating'] = reviews_grouped_by_product.get_group(el)['overall'].mean()\n",
    "        try:\n",
    "            data_out.loc[el,'SalesCategory'] = data_out.loc[el, 'salesRank'].keys()\n",
    "            k = list(data_out.loc[el,'SalesCategory'])\n",
    "            data_out.loc[el,'SalesRank'] = data_out.loc[el, 'salesRank'][k[0]]\n",
    "        except AttributeError:\n",
    "            data_out.loc[el,'SalesCategory'] = np.nan\n",
    "            data_out.loc[el,'SalesRank'] = np.nan\n",
    "\n",
    "    data_out = data_out.loc[:,['Rating','price','SalesCategory','SalesRank','brand', 'categories']]\n",
    "\n",
    "    # treat NA as 0s\n",
    "    data_out.fillna(0, inplace = True)\n",
    "    return data_out"
   ]
  },
  {
   "cell_type": "code",
   "execution_count": 491,
   "metadata": {
    "collapsed": false
   },
   "outputs": [],
   "source": [
    "user_products_data = consructDataFeatures(data_meta, example_user_catalog)\n",
    "topN_products_data = consructDataFeatures(data_meta, topN_products)"
   ]
  },
  {
   "cell_type": "markdown",
   "metadata": {},
   "source": [
    "Each item is characterized by the vector (average rating, price, sales category, sales rank, brand, categories)\n",
    "\n",
    "#TODO: there are ways to improve\n",
    "\n",
    "To find the similarity:\n",
    "\n",
    "For the numeric variables - rating and price: how close are the values\n",
    "\n",
    "For the categorical variables - sales category, brand, categories:\n",
    "- sales category and brand: 1 if coincide fully, -> 0 if sales category mismatch or ranks are distant\n",
    "- categories: measure the overlap of the subcategoris, as % out of the max possible overlap\n"
   ]
  },
  {
   "cell_type": "code",
   "execution_count": 511,
   "metadata": {
    "collapsed": true
   },
   "outputs": [],
   "source": [
    "def similarity_rate(product1, product2):\n",
    "    # TODO: implement other measures for the categorical variables of SalesCategory, SalesRank, brand, categories_overlap\n",
    "    # for the categorical values the weighted average overlap measure is applied \n",
    "    \n",
    "    # numeric meaures\n",
    "    rating_similarity = np.exp(-abs(product1['Rating'] - product2['Rating'])) #closer - higher similarity\n",
    "    price_similarity = np.exp(-abs(product1['price'] - product2['price'])) #closer - higher similarity\n",
    "    \n",
    "    # overlap meaures\n",
    "    brand_similarity = product1['brand'] == product2['brand']\n",
    "    \n",
    "    sales_category_similarity = product1['SalesCategory'] == product2['SalesCategory']\n",
    "    sales_rank_similarity = np.exp(-abs(product1['SalesRank'] - product2['SalesRank']))\n",
    "    sales_similarity = (sales_category_similarity * sales_rank_similarity) if sales_category_similarity!=0 else 0.\n",
    "    \n",
    "    #Category similarity defines as a % out of the max possible similarity\n",
    "    max_similarity = max(len(product2['categories'][0]), len(product1['categories'][0]))\n",
    "    category_similarity = len(set(product2['categories'][0]).intersection(product1['categories'][0]))/ max_similarity\n",
    "    \n",
    "    # return average rate\n",
    "    return np.mean([rating_similarity, price_similarity, brand_similarity, sales_similarity, category_similarity])\n",
    "    "
   ]
  },
  {
   "cell_type": "code",
   "execution_count": 512,
   "metadata": {
    "collapsed": false
   },
   "outputs": [
    {
     "name": "stdout",
     "output_type": "stream",
     "text": [
      "--- 0.9321529865264893 seconds ---\n"
     ]
    }
   ],
   "source": [
    "similarity_matrix = pd.DataFrame([], index = topN_products_data.index.values, columns = user_products_data.index.values)\n",
    "\n",
    "start_time = time.time()\n",
    "for topN_el in similarity_matrix.index.values:\n",
    "    p2 = topN_products_data.loc[topN_el,:]\n",
    "    for user_prod in similarity_matrix.columns.values:\n",
    "        p1 = user_products_data.loc[user_prod,:]\n",
    "        similarity_matrix.loc[topN_el,user_prod] = similarity_rate(p1,p2)\n",
    "        \n",
    "print(\"--- %s seconds ---\" % (time.time() - start_time))          "
   ]
  },
  {
   "cell_type": "code",
   "execution_count": 513,
   "metadata": {
    "collapsed": false
   },
   "outputs": [
    {
     "data": {
      "text/html": [
       "<div>\n",
       "<table border=\"1\" class=\"dataframe\">\n",
       "  <thead>\n",
       "    <tr style=\"text-align: right;\">\n",
       "      <th></th>\n",
       "      <th>B00005A1JN</th>\n",
       "      <th>B00009YUHK</th>\n",
       "      <th>B001RQG6Z4</th>\n",
       "      <th>B0030A85M2</th>\n",
       "      <th>B0037NXKY0</th>\n",
       "      <th>B003MP8MGO</th>\n",
       "      <th>B003MP8MGY</th>\n",
       "      <th>B0048WPV3M</th>\n",
       "      <th>B0064MRP0G</th>\n",
       "      <th>B007BE9OQ4</th>\n",
       "      <th>B009GMJOG4</th>\n",
       "      <th>B00FIYJXAQ</th>\n",
       "      <th>B00FZKTRPY</th>\n",
       "      <th>B00GZGC3IK</th>\n",
       "    </tr>\n",
       "  </thead>\n",
       "  <tbody>\n",
       "    <tr>\n",
       "      <th>B0000223QY</th>\n",
       "      <td>0.679923</td>\n",
       "      <td>0.12262</td>\n",
       "      <td>0.38888</td>\n",
       "      <td>0.372214</td>\n",
       "      <td>0.371544</td>\n",
       "      <td>0.240166</td>\n",
       "      <td>0.436032</td>\n",
       "      <td>0.376634</td>\n",
       "      <td>0.437469</td>\n",
       "      <td>0.501531</td>\n",
       "      <td>0.425378</td>\n",
       "      <td>0.40537</td>\n",
       "      <td>0.440933</td>\n",
       "      <td>0.383801</td>\n",
       "    </tr>\n",
       "    <tr>\n",
       "      <th>B001GAOO6Y</th>\n",
       "      <td>0.578426</td>\n",
       "      <td>0.103003</td>\n",
       "      <td>0.40008</td>\n",
       "      <td>0.394463</td>\n",
       "      <td>0.380099</td>\n",
       "      <td>0.222685</td>\n",
       "      <td>0.426591</td>\n",
       "      <td>0.39372</td>\n",
       "      <td>0.425112</td>\n",
       "      <td>0.494664</td>\n",
       "      <td>0.437883</td>\n",
       "      <td>0.419391</td>\n",
       "      <td>0.421753</td>\n",
       "      <td>0.356081</td>\n",
       "    </tr>\n",
       "  </tbody>\n",
       "</table>\n",
       "</div>"
      ],
      "text/plain": [
       "           B00005A1JN B00009YUHK B001RQG6Z4 B0030A85M2 B0037NXKY0 B003MP8MGO  \\\n",
       "B0000223QY   0.679923    0.12262    0.38888   0.372214   0.371544   0.240166   \n",
       "B001GAOO6Y   0.578426   0.103003    0.40008   0.394463   0.380099   0.222685   \n",
       "\n",
       "           B003MP8MGY B0048WPV3M B0064MRP0G B007BE9OQ4 B009GMJOG4 B00FIYJXAQ  \\\n",
       "B0000223QY   0.436032   0.376634   0.437469   0.501531   0.425378    0.40537   \n",
       "B001GAOO6Y   0.426591    0.39372   0.425112   0.494664   0.437883   0.419391   \n",
       "\n",
       "           B00FZKTRPY B00GZGC3IK  \n",
       "B0000223QY   0.440933   0.383801  \n",
       "B001GAOO6Y   0.421753   0.356081  "
      ]
     },
     "execution_count": 513,
     "metadata": {},
     "output_type": "execute_result"
    }
   ],
   "source": [
    "similarity_matrix.head(n = 2)"
   ]
  },
  {
   "cell_type": "code",
   "execution_count": 516,
   "metadata": {
    "collapsed": false
   },
   "outputs": [
    {
     "data": {
      "text/plain": [
       "B00DHU85NE    0.467945\n",
       "B00APB0IX8    0.465836\n",
       "B00JPBDL9W    0.461515\n",
       "B008U3R9OE    0.445298\n",
       "B00GM477G8    0.441877\n",
       "B009UVDE5S    0.440528\n",
       "B005E6H7BU    0.438174\n",
       "B0080PLOE8    0.431286\n",
       "B001I9TI4Q    0.429026\n",
       "dtype: float64"
      ]
     },
     "execution_count": 516,
     "metadata": {},
     "output_type": "execute_result"
    }
   ],
   "source": [
    "# calculate the average similarity of the product to the whole busket of user's reviewed products\n",
    "sorted_average_similarity = (similarity_matrix.mean(axis = 1)).sort_values(ascending = False)\n",
    "\n",
    "# get topN products that are the most similar to the whole busket\n",
    "prod_IDs_to_recommend = sorted_average_similarity[1:topN]\n",
    "prod_IDs_to_recommend"
   ]
  },
  {
   "cell_type": "code",
   "execution_count": 517,
   "metadata": {
    "collapsed": false,
    "scrolled": true
   },
   "outputs": [
    {
     "data": {
      "text/html": [
       "<div>\n",
       "<table border=\"1\" class=\"dataframe\">\n",
       "  <thead>\n",
       "    <tr style=\"text-align: right;\">\n",
       "      <th></th>\n",
       "      <th>Rating</th>\n",
       "      <th>price</th>\n",
       "      <th>SalesCategory</th>\n",
       "      <th>SalesRank</th>\n",
       "      <th>brand</th>\n",
       "      <th>categories</th>\n",
       "    </tr>\n",
       "  </thead>\n",
       "  <tbody>\n",
       "    <tr>\n",
       "      <th>B00DHU85NE</th>\n",
       "      <td>4.492308</td>\n",
       "      <td>12.95</td>\n",
       "      <td>0</td>\n",
       "      <td>0.0</td>\n",
       "      <td>0</td>\n",
       "      <td>[[Tools &amp; Home Improvement, Electrical, Light ...</td>\n",
       "    </tr>\n",
       "    <tr>\n",
       "      <th>B00APB0IX8</th>\n",
       "      <td>4.400000</td>\n",
       "      <td>14.24</td>\n",
       "      <td>0</td>\n",
       "      <td>0.0</td>\n",
       "      <td>0</td>\n",
       "      <td>[[Tools &amp; Home Improvement, Electrical, Light ...</td>\n",
       "    </tr>\n",
       "    <tr>\n",
       "      <th>B00JPBDL9W</th>\n",
       "      <td>4.444444</td>\n",
       "      <td>35.99</td>\n",
       "      <td>0</td>\n",
       "      <td>0.0</td>\n",
       "      <td>0</td>\n",
       "      <td>[[Tools &amp; Home Improvement, Electrical, Light ...</td>\n",
       "    </tr>\n",
       "    <tr>\n",
       "      <th>B008U3R9OE</th>\n",
       "      <td>4.370370</td>\n",
       "      <td>21.99</td>\n",
       "      <td>0</td>\n",
       "      <td>0.0</td>\n",
       "      <td>0</td>\n",
       "      <td>[[Tools &amp; Home Improvement, Lighting &amp; Ceiling...</td>\n",
       "    </tr>\n",
       "    <tr>\n",
       "      <th>B00GM477G8</th>\n",
       "      <td>4.125000</td>\n",
       "      <td>24.99</td>\n",
       "      <td>0</td>\n",
       "      <td>0.0</td>\n",
       "      <td>0</td>\n",
       "      <td>[[Tools &amp; Home Improvement, Lighting &amp; Ceiling...</td>\n",
       "    </tr>\n",
       "    <tr>\n",
       "      <th>B009UVDE5S</th>\n",
       "      <td>4.500000</td>\n",
       "      <td>49.95</td>\n",
       "      <td>0</td>\n",
       "      <td>0.0</td>\n",
       "      <td>0</td>\n",
       "      <td>[[Tools &amp; Home Improvement, Lighting &amp; Ceiling...</td>\n",
       "    </tr>\n",
       "    <tr>\n",
       "      <th>B005E6H7BU</th>\n",
       "      <td>4.666667</td>\n",
       "      <td>69.95</td>\n",
       "      <td>0</td>\n",
       "      <td>0.0</td>\n",
       "      <td>0</td>\n",
       "      <td>[[Tools &amp; Home Improvement, Lighting &amp; Ceiling...</td>\n",
       "    </tr>\n",
       "    <tr>\n",
       "      <th>B0080PLOE8</th>\n",
       "      <td>4.307692</td>\n",
       "      <td>37.80</td>\n",
       "      <td>0</td>\n",
       "      <td>0.0</td>\n",
       "      <td>GE Lighting</td>\n",
       "      <td>[[Tools &amp; Home Improvement, Electrical, Light ...</td>\n",
       "    </tr>\n",
       "    <tr>\n",
       "      <th>B001I9TI4Q</th>\n",
       "      <td>4.585586</td>\n",
       "      <td>15.99</td>\n",
       "      <td>0</td>\n",
       "      <td>0.0</td>\n",
       "      <td>TerraLUX</td>\n",
       "      <td>[[Tools &amp; Home Improvement, Electrical, Light ...</td>\n",
       "    </tr>\n",
       "  </tbody>\n",
       "</table>\n",
       "</div>"
      ],
      "text/plain": [
       "              Rating  price SalesCategory  SalesRank        brand  \\\n",
       "B00DHU85NE  4.492308  12.95             0        0.0            0   \n",
       "B00APB0IX8  4.400000  14.24             0        0.0            0   \n",
       "B00JPBDL9W  4.444444  35.99             0        0.0            0   \n",
       "B008U3R9OE  4.370370  21.99             0        0.0            0   \n",
       "B00GM477G8  4.125000  24.99             0        0.0            0   \n",
       "B009UVDE5S  4.500000  49.95             0        0.0            0   \n",
       "B005E6H7BU  4.666667  69.95             0        0.0            0   \n",
       "B0080PLOE8  4.307692  37.80             0        0.0  GE Lighting   \n",
       "B001I9TI4Q  4.585586  15.99             0        0.0     TerraLUX   \n",
       "\n",
       "                                                   categories  \n",
       "B00DHU85NE  [[Tools & Home Improvement, Electrical, Light ...  \n",
       "B00APB0IX8  [[Tools & Home Improvement, Electrical, Light ...  \n",
       "B00JPBDL9W  [[Tools & Home Improvement, Electrical, Light ...  \n",
       "B008U3R9OE  [[Tools & Home Improvement, Lighting & Ceiling...  \n",
       "B00GM477G8  [[Tools & Home Improvement, Lighting & Ceiling...  \n",
       "B009UVDE5S  [[Tools & Home Improvement, Lighting & Ceiling...  \n",
       "B005E6H7BU  [[Tools & Home Improvement, Lighting & Ceiling...  \n",
       "B0080PLOE8  [[Tools & Home Improvement, Electrical, Light ...  \n",
       "B001I9TI4Q  [[Tools & Home Improvement, Electrical, Light ...  "
      ]
     },
     "execution_count": 517,
     "metadata": {},
     "output_type": "execute_result"
    }
   ],
   "source": [
    "# View the list of reccomended products\n",
    "topN_products_data.loc[prod_IDs_to_recommend.index.values,:]"
   ]
  },
  {
   "cell_type": "code",
   "execution_count": 518,
   "metadata": {
    "collapsed": false
   },
   "outputs": [
    {
     "data": {
      "text/html": [
       "<div>\n",
       "<table border=\"1\" class=\"dataframe\">\n",
       "  <thead>\n",
       "    <tr style=\"text-align: right;\">\n",
       "      <th></th>\n",
       "      <th>Rating</th>\n",
       "      <th>price</th>\n",
       "      <th>SalesCategory</th>\n",
       "      <th>SalesRank</th>\n",
       "      <th>brand</th>\n",
       "      <th>categories</th>\n",
       "    </tr>\n",
       "  </thead>\n",
       "  <tbody>\n",
       "    <tr>\n",
       "      <th>B00005A1JN</th>\n",
       "      <td>4.666667</td>\n",
       "      <td>11.89</td>\n",
       "      <td>0</td>\n",
       "      <td>0.0</td>\n",
       "      <td>Stanley</td>\n",
       "      <td>[[Tools &amp; Home Improvement, Power &amp; Hand Tools...</td>\n",
       "    </tr>\n",
       "    <tr>\n",
       "      <th>B00009YUHK</th>\n",
       "      <td>3.222222</td>\n",
       "      <td>166.66</td>\n",
       "      <td>(Home Improvement)</td>\n",
       "      <td>12232.0</td>\n",
       "      <td>0</td>\n",
       "      <td>[[Tools &amp; Home Improvement, Painting Supplies ...</td>\n",
       "    </tr>\n",
       "    <tr>\n",
       "      <th>B001RQG6Z4</th>\n",
       "      <td>4.600000</td>\n",
       "      <td>123.17</td>\n",
       "      <td>0</td>\n",
       "      <td>0.0</td>\n",
       "      <td>Hunter Fan Company</td>\n",
       "      <td>[[Tools &amp; Home Improvement, Lighting &amp; Ceiling...</td>\n",
       "    </tr>\n",
       "    <tr>\n",
       "      <th>B0030A85M2</th>\n",
       "      <td>4.600000</td>\n",
       "      <td>7.25</td>\n",
       "      <td>0</td>\n",
       "      <td>0.0</td>\n",
       "      <td>Neiko</td>\n",
       "      <td>[[Tools &amp; Home Improvement, Safety &amp; Security,...</td>\n",
       "    </tr>\n",
       "    <tr>\n",
       "      <th>B0037NXKY0</th>\n",
       "      <td>4.733333</td>\n",
       "      <td>24.60</td>\n",
       "      <td>0</td>\n",
       "      <td>0.0</td>\n",
       "      <td>Leviton</td>\n",
       "      <td>[[Tools &amp; Home Improvement, Electrical, Plugs]]</td>\n",
       "    </tr>\n",
       "    <tr>\n",
       "      <th>B003MP8MGO</th>\n",
       "      <td>4.285714</td>\n",
       "      <td>5.59</td>\n",
       "      <td>(Home Improvement)</td>\n",
       "      <td>9404.0</td>\n",
       "      <td>Dorcy</td>\n",
       "      <td>[[Tools &amp; Home Improvement, Electrical, Light ...</td>\n",
       "    </tr>\n",
       "    <tr>\n",
       "      <th>B003MP8MGY</th>\n",
       "      <td>4.307692</td>\n",
       "      <td>4.21</td>\n",
       "      <td>0</td>\n",
       "      <td>0.0</td>\n",
       "      <td>Dorcy</td>\n",
       "      <td>[[Tools &amp; Home Improvement, Electrical, Light ...</td>\n",
       "    </tr>\n",
       "    <tr>\n",
       "      <th>B0048WPV3M</th>\n",
       "      <td>4.692308</td>\n",
       "      <td>15.75</td>\n",
       "      <td>0</td>\n",
       "      <td>0.0</td>\n",
       "      <td>Leviton</td>\n",
       "      <td>[[Tools &amp; Home Improvement, Electrical, Outlet...</td>\n",
       "    </tr>\n",
       "    <tr>\n",
       "      <th>B0064MRP0G</th>\n",
       "      <td>4.300000</td>\n",
       "      <td>79.99</td>\n",
       "      <td>0</td>\n",
       "      <td>0.0</td>\n",
       "      <td>Black &amp;amp; Decker</td>\n",
       "      <td>[[Tools &amp; Home Improvement, Painting Supplies ...</td>\n",
       "    </tr>\n",
       "    <tr>\n",
       "      <th>B007BE9OQ4</th>\n",
       "      <td>4.512821</td>\n",
       "      <td>24.00</td>\n",
       "      <td>0</td>\n",
       "      <td>0.0</td>\n",
       "      <td>Coast</td>\n",
       "      <td>[[Tools &amp; Home Improvement, Power &amp; Hand Tools...</td>\n",
       "    </tr>\n",
       "    <tr>\n",
       "      <th>B009GMJOG4</th>\n",
       "      <td>4.366667</td>\n",
       "      <td>22.45</td>\n",
       "      <td>0</td>\n",
       "      <td>0.0</td>\n",
       "      <td>0</td>\n",
       "      <td>[[Tools &amp; Home Improvement, Lighting &amp; Ceiling...</td>\n",
       "    </tr>\n",
       "    <tr>\n",
       "      <th>B00FIYJXAQ</th>\n",
       "      <td>4.487805</td>\n",
       "      <td>18.99</td>\n",
       "      <td>0</td>\n",
       "      <td>0.0</td>\n",
       "      <td>Newhouse Lighting</td>\n",
       "      <td>[[Tools &amp; Home Improvement, Lighting &amp; Ceiling...</td>\n",
       "    </tr>\n",
       "    <tr>\n",
       "      <th>B00FZKTRPY</th>\n",
       "      <td>4.281690</td>\n",
       "      <td>29.99</td>\n",
       "      <td>0</td>\n",
       "      <td>0.0</td>\n",
       "      <td>GE Lighting</td>\n",
       "      <td>[[Tools &amp; Home Improvement, Electrical, Light ...</td>\n",
       "    </tr>\n",
       "    <tr>\n",
       "      <th>B00GZGC3IK</th>\n",
       "      <td>3.833333</td>\n",
       "      <td>68.94</td>\n",
       "      <td>0</td>\n",
       "      <td>0.0</td>\n",
       "      <td>0</td>\n",
       "      <td>[[Tools &amp; Home Improvement, Painting Supplies ...</td>\n",
       "    </tr>\n",
       "  </tbody>\n",
       "</table>\n",
       "</div>"
      ],
      "text/plain": [
       "              Rating   price       SalesCategory  SalesRank  \\\n",
       "B00005A1JN  4.666667   11.89                   0        0.0   \n",
       "B00009YUHK  3.222222  166.66  (Home Improvement)    12232.0   \n",
       "B001RQG6Z4  4.600000  123.17                   0        0.0   \n",
       "B0030A85M2  4.600000    7.25                   0        0.0   \n",
       "B0037NXKY0  4.733333   24.60                   0        0.0   \n",
       "B003MP8MGO  4.285714    5.59  (Home Improvement)     9404.0   \n",
       "B003MP8MGY  4.307692    4.21                   0        0.0   \n",
       "B0048WPV3M  4.692308   15.75                   0        0.0   \n",
       "B0064MRP0G  4.300000   79.99                   0        0.0   \n",
       "B007BE9OQ4  4.512821   24.00                   0        0.0   \n",
       "B009GMJOG4  4.366667   22.45                   0        0.0   \n",
       "B00FIYJXAQ  4.487805   18.99                   0        0.0   \n",
       "B00FZKTRPY  4.281690   29.99                   0        0.0   \n",
       "B00GZGC3IK  3.833333   68.94                   0        0.0   \n",
       "\n",
       "                         brand  \\\n",
       "B00005A1JN             Stanley   \n",
       "B00009YUHK                   0   \n",
       "B001RQG6Z4  Hunter Fan Company   \n",
       "B0030A85M2               Neiko   \n",
       "B0037NXKY0             Leviton   \n",
       "B003MP8MGO               Dorcy   \n",
       "B003MP8MGY               Dorcy   \n",
       "B0048WPV3M             Leviton   \n",
       "B0064MRP0G  Black &amp; Decker   \n",
       "B007BE9OQ4               Coast   \n",
       "B009GMJOG4                   0   \n",
       "B00FIYJXAQ   Newhouse Lighting   \n",
       "B00FZKTRPY         GE Lighting   \n",
       "B00GZGC3IK                   0   \n",
       "\n",
       "                                                   categories  \n",
       "B00005A1JN  [[Tools & Home Improvement, Power & Hand Tools...  \n",
       "B00009YUHK  [[Tools & Home Improvement, Painting Supplies ...  \n",
       "B001RQG6Z4  [[Tools & Home Improvement, Lighting & Ceiling...  \n",
       "B0030A85M2  [[Tools & Home Improvement, Safety & Security,...  \n",
       "B0037NXKY0    [[Tools & Home Improvement, Electrical, Plugs]]  \n",
       "B003MP8MGO  [[Tools & Home Improvement, Electrical, Light ...  \n",
       "B003MP8MGY  [[Tools & Home Improvement, Electrical, Light ...  \n",
       "B0048WPV3M  [[Tools & Home Improvement, Electrical, Outlet...  \n",
       "B0064MRP0G  [[Tools & Home Improvement, Painting Supplies ...  \n",
       "B007BE9OQ4  [[Tools & Home Improvement, Power & Hand Tools...  \n",
       "B009GMJOG4  [[Tools & Home Improvement, Lighting & Ceiling...  \n",
       "B00FIYJXAQ  [[Tools & Home Improvement, Lighting & Ceiling...  \n",
       "B00FZKTRPY  [[Tools & Home Improvement, Electrical, Light ...  \n",
       "B00GZGC3IK  [[Tools & Home Improvement, Painting Supplies ...  "
      ]
     },
     "execution_count": 518,
     "metadata": {},
     "output_type": "execute_result"
    }
   ],
   "source": [
    "# original user dataset\n",
    "user_products_data"
   ]
  }
 ],
 "metadata": {
  "kernelspec": {
   "display_name": "Python 3",
   "language": "python",
   "name": "python3"
  },
  "language_info": {
   "codemirror_mode": {
    "name": "ipython",
    "version": 3
   },
   "file_extension": ".py",
   "mimetype": "text/x-python",
   "name": "python",
   "nbconvert_exporter": "python",
   "pygments_lexer": "ipython3",
   "version": "3.5.1"
  }
 },
 "nbformat": 4,
 "nbformat_minor": 0
}
